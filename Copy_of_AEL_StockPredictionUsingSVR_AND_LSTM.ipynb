{
  "nbformat": 4,
  "nbformat_minor": 0,
  "metadata": {
    "colab": {
      "name": "Copy of AEL_StockPredictionUsingSVR_AND_LSTM.ipynb",
      "provenance": [],
      "collapsed_sections": []
    },
    "kernelspec": {
      "display_name": "Python 3",
      "language": "python",
      "name": "python3"
    },
    "language_info": {
      "codemirror_mode": {
        "name": "ipython",
        "version": 3
      },
      "file_extension": ".py",
      "mimetype": "text/x-python",
      "name": "python",
      "nbconvert_exporter": "python",
      "pygments_lexer": "ipython3",
      "version": "3.7.4"
    }
  },
  "cells": [
    {
      "cell_type": "code",
      "metadata": {
        "colab_type": "code",
        "id": "sR3CdkY2v66t",
        "colab": {}
      },
      "source": [
        "#Import the libraries\n",
        "import math\n",
        "from sklearn.preprocessing import MinMaxScaler\n",
        "import keras\n",
        "import pandas_datareader as web\n",
        "import matplotlib.pyplot as plt\n",
        "import pandas as pd\n",
        "import datetime\n",
        "import numpy as np\n",
        "from sklearn.svm import SVR\n",
        "from tensorflow.keras.models import Sequential\n",
        "from tensorflow.keras.layers import Dense,LSTM\n",
        "from matplotlib import style\n",
        "import matplotlib.pyplot as plt\n",
        "import matplotlib.dates as mdates\n",
        "\n",
        "import warnings \n",
        "warnings.filterwarnings('ignore') \n"
      ],
      "execution_count": 0,
      "outputs": []
    },
    {
      "cell_type": "code",
      "metadata": {
        "colab_type": "code",
        "id": "QIcwi5dyv662",
        "outputId": "da4f8a18-692e-47a9-ce60-dc1d73bbaa54",
        "colab": {
          "resources": {
            "http://localhost:8080/nbextensions/google.colab/files.js": {
              "data": "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",
              "ok": true,
              "headers": [
                [
                  "content-type",
                  "application/javascript"
                ]
              ],
              "status": 200,
              "status_text": ""
            }
          },
          "base_uri": "https://localhost:8080/",
          "height": 261
        }
      },
      "source": [
        "\n",
        "from google.colab import files\n",
        "uploaded = files.upload()\n",
        "df = pd.read_excel('AEL.N0000`N.xlsx')\n",
        "\n",
        "\n",
        "df_dates = df.loc[:,'Date']\n",
        "df_closes = df.loc[:,'Closed']\n",
        "\n",
        "df.tail()"
      ],
      "execution_count": 0,
      "outputs": [
        {
          "output_type": "display_data",
          "data": {
            "text/html": [
              "\n",
              "     <input type=\"file\" id=\"files-bb47e3c9-fbb0-45f2-8344-79e6fa7685b5\" name=\"files[]\" multiple disabled />\n",
              "     <output id=\"result-bb47e3c9-fbb0-45f2-8344-79e6fa7685b5\">\n",
              "      Upload widget is only available when the cell has been executed in the\n",
              "      current browser session. Please rerun this cell to enable.\n",
              "      </output>\n",
              "      <script src=\"/nbextensions/google.colab/files.js\"></script> "
            ],
            "text/plain": [
              "<IPython.core.display.HTML object>"
            ]
          },
          "metadata": {
            "tags": []
          }
        },
        {
          "output_type": "stream",
          "text": [
            "Saving AEL.N0000`N.xlsx to AEL.N0000`N (1).xlsx\n"
          ],
          "name": "stdout"
        },
        {
          "output_type": "execute_result",
          "data": {
            "text/html": [
              "<div>\n",
              "<style scoped>\n",
              "    .dataframe tbody tr th:only-of-type {\n",
              "        vertical-align: middle;\n",
              "    }\n",
              "\n",
              "    .dataframe tbody tr th {\n",
              "        vertical-align: top;\n",
              "    }\n",
              "\n",
              "    .dataframe thead th {\n",
              "        text-align: right;\n",
              "    }\n",
              "</style>\n",
              "<table border=\"1\" class=\"dataframe\">\n",
              "  <thead>\n",
              "    <tr style=\"text-align: right;\">\n",
              "      <th></th>\n",
              "      <th>Date</th>\n",
              "      <th>Open</th>\n",
              "      <th>High</th>\n",
              "      <th>Low</th>\n",
              "      <th>Closed</th>\n",
              "      <th>% Chg.</th>\n",
              "      <th>Change</th>\n",
              "      <th>Prev. Closed</th>\n",
              "      <th>Volume</th>\n",
              "      <th>Turnover</th>\n",
              "    </tr>\n",
              "  </thead>\n",
              "  <tbody>\n",
              "    <tr>\n",
              "      <th>1897</th>\n",
              "      <td>2020-03-10</td>\n",
              "      <td>16.5</td>\n",
              "      <td>16.5</td>\n",
              "      <td>14.5</td>\n",
              "      <td>15.1</td>\n",
              "      <td>-12.21</td>\n",
              "      <td>-2.1</td>\n",
              "      <td>17.2</td>\n",
              "      <td>3813579</td>\n",
              "      <td>57803019</td>\n",
              "    </tr>\n",
              "    <tr>\n",
              "      <th>1898</th>\n",
              "      <td>2020-03-11</td>\n",
              "      <td>15.1</td>\n",
              "      <td>15.8</td>\n",
              "      <td>15.1</td>\n",
              "      <td>15.4</td>\n",
              "      <td>2.67</td>\n",
              "      <td>0.4</td>\n",
              "      <td>15.0</td>\n",
              "      <td>5230899</td>\n",
              "      <td>79430307</td>\n",
              "    </tr>\n",
              "    <tr>\n",
              "      <th>1899</th>\n",
              "      <td>2020-03-12</td>\n",
              "      <td>15.1</td>\n",
              "      <td>15.1</td>\n",
              "      <td>14.6</td>\n",
              "      <td>15.0</td>\n",
              "      <td>-1.32</td>\n",
              "      <td>-0.2</td>\n",
              "      <td>15.2</td>\n",
              "      <td>1322960</td>\n",
              "      <td>19662739</td>\n",
              "    </tr>\n",
              "    <tr>\n",
              "      <th>1900</th>\n",
              "      <td>2020-03-13</td>\n",
              "      <td>14.8</td>\n",
              "      <td>15.1</td>\n",
              "      <td>14.0</td>\n",
              "      <td>15.0</td>\n",
              "      <td>0.00</td>\n",
              "      <td>0.0</td>\n",
              "      <td>15.0</td>\n",
              "      <td>1715778</td>\n",
              "      <td>24870935</td>\n",
              "    </tr>\n",
              "    <tr>\n",
              "      <th>1901</th>\n",
              "      <td>2020-03-20</td>\n",
              "      <td>14.0</td>\n",
              "      <td>14.0</td>\n",
              "      <td>12.3</td>\n",
              "      <td>13.3</td>\n",
              "      <td>-10.74</td>\n",
              "      <td>-1.6</td>\n",
              "      <td>14.9</td>\n",
              "      <td>1144255</td>\n",
              "      <td>14745297</td>\n",
              "    </tr>\n",
              "  </tbody>\n",
              "</table>\n",
              "</div>"
            ],
            "text/plain": [
              "           Date  Open  High   Low  ...  Change  Prev. Closed   Volume  Turnover\n",
              "1897 2020-03-10  16.5  16.5  14.5  ...    -2.1          17.2  3813579  57803019\n",
              "1898 2020-03-11  15.1  15.8  15.1  ...     0.4          15.0  5230899  79430307\n",
              "1899 2020-03-12  15.1  15.1  14.6  ...    -0.2          15.2  1322960  19662739\n",
              "1900 2020-03-13  14.8  15.1  14.0  ...     0.0          15.0  1715778  24870935\n",
              "1901 2020-03-20  14.0  14.0  12.3  ...    -1.6          14.9  1144255  14745297\n",
              "\n",
              "[5 rows x 10 columns]"
            ]
          },
          "metadata": {
            "tags": []
          },
          "execution_count": 39
        }
      ]
    },
    {
      "cell_type": "code",
      "metadata": {
        "colab_type": "code",
        "id": "N83KlCc6pRGP",
        "outputId": "e239f8cf-114f-4ab1-c20b-4e620f737097",
        "colab": {
          "base_uri": "https://localhost:8080/",
          "height": 34
        }
      },
      "source": [
        "#Get the number of columns and rows in the dataset\n",
        "df.shape"
      ],
      "execution_count": 0,
      "outputs": [
        {
          "output_type": "execute_result",
          "data": {
            "text/plain": [
              "(1902, 10)"
            ]
          },
          "metadata": {
            "tags": []
          },
          "execution_count": 40
        }
      ]
    },
    {
      "cell_type": "code",
      "metadata": {
        "colab_type": "code",
        "id": "DptMirwEv67C",
        "outputId": "036f2870-b595-4024-b8f3-0a7aad63f5f7",
        "colab": {
          "base_uri": "https://localhost:8080/",
          "height": 388
        }
      },
      "source": [
        "\n",
        "# Rolling mean\n",
        "close_px = df['Closed']\n",
        "mavg = close_px.rolling(window=100).mean()\n",
        "\n",
        "plt.figure(figsize = (12,6))\n",
        "close_px.plot(label='AEL')\n",
        "mavg.plot(label='mavg')\n",
        "plt.xlabel('Date')\n",
        "plt.ylabel('Price')\n",
        "plt.legend()\n",
        "plt.show()"
      ],
      "execution_count": 0,
      "outputs": [
        {
          "output_type": "display_data",
          "data": {
            "image/png": "[encoded data removed]",
            "text/plain": [
              "<Figure size 864x432 with 1 Axes>"
            ]
          },
          "metadata": {
            "tags": [],
            "needs_background": "light"
          }
        }
      ]
    },
    {
      "cell_type": "code",
      "metadata": {
        "colab_type": "code",
        "id": "pavJ-Rkdv67F",
        "outputId": "c2d1526d-84c1-4358-9026-a5d3187ac1f3",
        "colab": {
          "base_uri": "https://localhost:8080/",
          "height": 34
        }
      },
      "source": [
        "#Crete a new dataframe with only the 'Close column'\n",
        "data = df.filter(['Closed'])\n",
        "#Conver the dataframe to a numpy array\n",
        "dataset = data.values\n",
        "#Get the number of rows to train the model on(.80 means 80% of data )\n",
        "training_data_len = math.ceil(len(dataset) * .80)\n",
        "training_data_len"
      ],
      "execution_count": 0,
      "outputs": [
        {
          "output_type": "execute_result",
          "data": {
            "text/plain": [
              "1522"
            ]
          },
          "metadata": {
            "tags": []
          },
          "execution_count": 42
        }
      ]
    },
    {
      "cell_type": "code",
      "metadata": {
        "colab_type": "code",
        "id": "ib2JXg_ap3NV",
        "colab": {}
      },
      "source": [
        "#Creating the training data set\n",
        "#Create the scaled training dat set\n",
        "\n",
        "df_dates = df_dates.map(mdates.date2num)\n",
        "\n",
        "train_data = dataset[0:training_data_len,:]\n",
        "x_train = [] #Indipendent variable\n",
        "y_train = [] #Dependent variable\n",
        "\n",
        "for i in range(0,len(train_data)):\n",
        "    x_train.append(df_dates[i])\n",
        "    y_train.append(float(df_closes[i]))\n",
        "    \n",
        "x_test_svm = []\n",
        "y_test_svm = []\n",
        "\n",
        "for i in range(len(train_data),len(df_dates)):\n",
        "    x_test_svm.append(df_dates[i])\n",
        "    y_test_svm.append(float(df_closes[i]))\n",
        "\n"
      ],
      "execution_count": 0,
      "outputs": []
    },
    {
      "cell_type": "code",
      "metadata": {
        "colab_type": "code",
        "id": "A4V8_cLIv67I",
        "outputId": "a8cf5fe3-8118-499e-df3c-d29586c7b39d",
        "colab": {
          "base_uri": "https://localhost:8080/",
          "height": 255
        }
      },
      "source": [
        "# Use sklearn support vector regression to predicit our data:\n",
        "dates = np.array(x_train)\n",
        "prices = np.array(y_train)\n",
        "org_dates = np.array\n",
        "\n",
        "#Convert to 1d Vector\n",
        "dates = dates.reshape( -1, 1)\n",
        "prices = prices.reshape( -1, 1)\n",
        "print(dates)\n",
        "print(prices)\n",
        "\n",
        "def suportVectoRegression(x,y):\n",
        "  #Create 3 support vector regression model\n",
        "  svr_polynomial = SVR(kernel = 'poly', C=1e3, degree=2)\n",
        "  svr_rbf =SVR(kernel='rbf', C=1e3,gamma=0.1)\n",
        "          \n",
        "  #Train the models\n",
        "\n",
        "  svr_polynomial.fit(dates,prices)\n",
        "  svr_rbf.fit(dates,prices)\n",
        "          \n",
        "          \n",
        "  #Plot the model on the graph to see\n",
        "  plt.figure(figsize = (12,6))\n",
        "  plt.plot(df_dates, data, color= 'blue', label= 'Data')\n",
        "  plt.plot(dates,svr_rbf.predict(dates),color='red', label='svr_rbf')\n",
        "  plt.plot(x,svr_rbf.predict(x),color='green', label='svr_rbf')\n",
        "  plt.xlabel('Date',fontsize=18)\n",
        "  plt.ylabel('Close Price (Rs.)',fontsize=18)\n",
        "  plt.legend()\n",
        "  plt.show()\n",
        "\n",
        "  print(\"Accuracy Poly:\",svr_polynomial.score(x,y))\n",
        "  print(\"Accuracy rbf:\",svr_rbf.score(x,y))\n",
        "\n",
        "  return svr_rbf.predict(x) \n",
        "\n"
      ],
      "execution_count": 0,
      "outputs": [
        {
          "output_type": "stream",
          "text": [
            "[[734589.]\n",
            " [734589.]\n",
            " [734597.]\n",
            " ...\n",
            " [736919.]\n",
            " [736920.]\n",
            " [736921.]]\n",
            "[[26.7]\n",
            " [26.7]\n",
            " [25. ]\n",
            " ...\n",
            " [15.8]\n",
            " [15.6]\n",
            " [15.4]]\n"
          ],
          "name": "stdout"
        }
      ]
    },
    {
      "cell_type": "code",
      "metadata": {
        "colab_type": "code",
        "id": "x0SyIcLPv67M",
        "outputId": "1cf4591d-a60c-4754-ea75-2190766c3400",
        "colab": {
          "base_uri": "https://localhost:8080/",
          "height": 464
        }
      },
      "source": [
        "count = 0\n",
        "#Predict the price on date\n",
        "x_test_score = [[x_test_svm[count]],[x_test_svm[count+1]],[x_test_svm[count+2]]]\n",
        "y_test_score = [[y_test_svm[count]],[y_test_svm[count+1]],[y_test_svm[count+2]]]\n",
        "\n",
        "price_prediction = suportVectoRegression(x_test_score,y_test_score)\n",
        "print(\"Actual Values: \",y_test_score)\n",
        "print(\"Predicted Values: \",price_prediction)\n"
      ],
      "execution_count": 0,
      "outputs": [
        {
          "output_type": "display_data",
          "data": {
            "image/png": "[encoded data removed]",
            "text/plain": [
              "<Figure size 864x432 with 1 Axes>"
            ]
          },
          "metadata": {
            "tags": [],
            "needs_background": "light"
          }
        },
        {
          "output_type": "stream",
          "text": [
            "Accuracy Poly: -3.298188183981155e+18\n",
            "Accuracy rbf: -2106.979747871162\n",
            "Actual Values:  [[15.3], [15.5], [15.3]]\n",
            "Predicted Values:  [16.03186141 17.66301495 22.4413261 ]\n"
          ],
          "name": "stdout"
        }
      ]
    },
    {
      "cell_type": "markdown",
      "metadata": {
        "id": "eUJH1GDhguRy",
        "colab_type": "text"
      },
      "source": [
        "#LSTM Model"
      ]
    },
    {
      "cell_type": "code",
      "metadata": {
        "id": "xSpQiaDfgzjr",
        "colab_type": "code",
        "outputId": "909c8266-a04e-4bea-bb6e-6fe5da9fa467",
        "colab": {
          "base_uri": "https://localhost:8080/",
          "height": 136
        }
      },
      "source": [
        "#Scale the data\n",
        "scaler = MinMaxScaler(feature_range=(0,1))\n",
        "scaled_data = scaler.fit_transform(dataset)\n",
        "scaled_data"
      ],
      "execution_count": 0,
      "outputs": [
        {
          "output_type": "execute_result",
          "data": {
            "text/plain": [
              "array([[0.49      ],\n",
              "       [0.49      ],\n",
              "       [0.43333333],\n",
              "       ...,\n",
              "       [0.1       ],\n",
              "       [0.1       ],\n",
              "       [0.04333333]])"
            ]
          },
          "metadata": {
            "tags": []
          },
          "execution_count": 59
        }
      ]
    },
    {
      "cell_type": "code",
      "metadata": {
        "id": "eAdsgksSg6P0",
        "colab_type": "code",
        "outputId": "ec74bbf6-7fbf-479f-c103-3d08018c6800",
        "colab": {
          "base_uri": "https://localhost:8080/",
          "height": 680
        }
      },
      "source": [
        "numberOfdata = 60\n",
        "\n",
        "#Creating the training data set\n",
        "#Create the scaled training dat set\n",
        "train_data =scaled_data[0:training_data_len,:]\n",
        "#Split the data into x_train and y_train data sets\n",
        "x_train = [] #Indipendent variable\n",
        "y_train = [] #Dependent variable\n",
        "\n",
        "for i in range(numberOfdata,len(train_data)):\n",
        "  x_train.append(train_data[i-numberOfdata:i,0])\n",
        "  y_train.append(train_data[i,0])\n",
        "  if i<= (numberOfdata+1):\n",
        "    print(x_train)\n",
        "    print(y_train)\n",
        "    print()"
      ],
      "execution_count": 0,
      "outputs": [
        {
          "output_type": "stream",
          "text": [
            "[array([0.49      , 0.49      , 0.43333333, 0.43666667, 0.42666667,\n",
            "       0.41666667, 0.40333333, 0.43333333, 0.4       , 0.4       ,\n",
            "       0.41333333, 0.39666667, 0.37      , 0.35      , 0.33333333,\n",
            "       0.36333333, 0.31666667, 0.31666667, 0.35      , 0.31666667,\n",
            "       0.29      , 0.28333333, 0.26666667, 0.26666667, 0.24      ,\n",
            "       0.27      , 0.26666667, 0.3       , 0.26666667, 0.27      ,\n",
            "       0.26666667, 0.26666667, 0.25      , 0.23333333, 0.23333333,\n",
            "       0.23333333, 0.2       , 0.18333333, 0.17666667, 0.13      ,\n",
            "       0.07666667, 0.08333333, 0.08      , 0.09666667, 0.09333333,\n",
            "       0.09333333, 0.11      , 0.15333333, 0.15333333, 0.15      ,\n",
            "       0.18      , 0.17      , 0.15666667, 0.16666667, 0.17      ,\n",
            "       0.18666667, 0.21666667, 0.22      , 0.21333333, 0.19      ])]\n",
            "[0.18333333333333335]\n",
            "\n",
            "[array([0.49      , 0.49      , 0.43333333, 0.43666667, 0.42666667,\n",
            "       0.41666667, 0.40333333, 0.43333333, 0.4       , 0.4       ,\n",
            "       0.41333333, 0.39666667, 0.37      , 0.35      , 0.33333333,\n",
            "       0.36333333, 0.31666667, 0.31666667, 0.35      , 0.31666667,\n",
            "       0.29      , 0.28333333, 0.26666667, 0.26666667, 0.24      ,\n",
            "       0.27      , 0.26666667, 0.3       , 0.26666667, 0.27      ,\n",
            "       0.26666667, 0.26666667, 0.25      , 0.23333333, 0.23333333,\n",
            "       0.23333333, 0.2       , 0.18333333, 0.17666667, 0.13      ,\n",
            "       0.07666667, 0.08333333, 0.08      , 0.09666667, 0.09333333,\n",
            "       0.09333333, 0.11      , 0.15333333, 0.15333333, 0.15      ,\n",
            "       0.18      , 0.17      , 0.15666667, 0.16666667, 0.17      ,\n",
            "       0.18666667, 0.21666667, 0.22      , 0.21333333, 0.19      ]), array([0.49      , 0.43333333, 0.43666667, 0.42666667, 0.41666667,\n",
            "       0.40333333, 0.43333333, 0.4       , 0.4       , 0.41333333,\n",
            "       0.39666667, 0.37      , 0.35      , 0.33333333, 0.36333333,\n",
            "       0.31666667, 0.31666667, 0.35      , 0.31666667, 0.29      ,\n",
            "       0.28333333, 0.26666667, 0.26666667, 0.24      , 0.27      ,\n",
            "       0.26666667, 0.3       , 0.26666667, 0.27      , 0.26666667,\n",
            "       0.26666667, 0.25      , 0.23333333, 0.23333333, 0.23333333,\n",
            "       0.2       , 0.18333333, 0.17666667, 0.13      , 0.07666667,\n",
            "       0.08333333, 0.08      , 0.09666667, 0.09333333, 0.09333333,\n",
            "       0.11      , 0.15333333, 0.15333333, 0.15      , 0.18      ,\n",
            "       0.17      , 0.15666667, 0.16666667, 0.17      , 0.18666667,\n",
            "       0.21666667, 0.22      , 0.21333333, 0.19      , 0.18333333])]\n",
            "[0.18333333333333335, 0.16666666666666663]\n",
            "\n"
          ],
          "name": "stdout"
        }
      ]
    },
    {
      "cell_type": "code",
      "metadata": {
        "id": "WJcuCEmthK2e",
        "colab_type": "code",
        "colab": {}
      },
      "source": [
        "#Convert the x_train and y_train to numpy arrays\n",
        "x_train,y_train = np.array(x_train),np.array(y_train)"
      ],
      "execution_count": 0,
      "outputs": []
    },
    {
      "cell_type": "markdown",
      "metadata": {
        "id": "mCtMjN97CyU3",
        "colab_type": "text"
      },
      "source": [
        "Reshape the data: Reason for reshape the data is LSTM network requers 3 diamentional in the form of number of sample,number of time steps and number of features"
      ]
    },
    {
      "cell_type": "code",
      "metadata": {
        "id": "pHT91xZvhW9O",
        "colab_type": "code",
        "outputId": "240af551-0921-45a8-d593-2fdf58dec767",
        "colab": {
          "base_uri": "https://localhost:8080/",
          "height": 51
        }
      },
      "source": [
        "#Reshape the data \n",
        "print(x_train.shape[0],' and ', x_train.shape[1],' are values of this array ', x_train.shape ,' 0 and 1 is the indexes of that array')\n",
        "x_train = np.reshape(x_train,(x_train.shape[0],x_train.shape[1],1))\n",
        "x_train.shape"
      ],
      "execution_count": 0,
      "outputs": [
        {
          "output_type": "stream",
          "text": [
            "1462  and  60  are values of this array  (1462, 60)  0 and 1 is the indexes of that array\n"
          ],
          "name": "stdout"
        },
        {
          "output_type": "execute_result",
          "data": {
            "text/plain": [
              "(1462, 60, 1)"
            ]
          },
          "metadata": {
            "tags": []
          },
          "execution_count": 62
        }
      ]
    },
    {
      "cell_type": "code",
      "metadata": {
        "id": "gMKghvwbhb_K",
        "colab_type": "code",
        "colab": {}
      },
      "source": [
        "\n",
        "\n",
        "#Build the LSTM model\n",
        "model = Sequential()\n",
        "model.add(LSTM(50,return_sequences=True,input_shape = (x_train.shape[1],1)))\n",
        "model.add(LSTM(50,return_sequences=False))\n",
        "model.add(Dense(25))\n",
        "model.add(Dense(1))"
      ],
      "execution_count": 0,
      "outputs": []
    },
    {
      "cell_type": "code",
      "metadata": {
        "id": "cK6CAb1phnJM",
        "colab_type": "code",
        "colab": {}
      },
      "source": [
        "#Compile the model\n",
        "model.compile(optimizer='adam',loss='mean_squared_error')"
      ],
      "execution_count": 0,
      "outputs": []
    },
    {
      "cell_type": "code",
      "metadata": {
        "id": "GibG3veJhpcv",
        "colab_type": "code",
        "outputId": "79924773-d67b-422d-baf4-f5805f32c8f8",
        "colab": {
          "base_uri": "https://localhost:8080/",
          "height": 51
        }
      },
      "source": [
        "#Train the model\n",
        "model.fit(x_train,y_train,batch_size=1,epochs=1)"
      ],
      "execution_count": 0,
      "outputs": [
        {
          "output_type": "stream",
          "text": [
            "1462/1462 [==============================] - 39s 27ms/step - loss: 0.0026\n"
          ],
          "name": "stdout"
        },
        {
          "output_type": "execute_result",
          "data": {
            "text/plain": [
              "<tensorflow.python.keras.callbacks.History at 0x7fe337297828>"
            ]
          },
          "metadata": {
            "tags": []
          },
          "execution_count": 65
        }
      ]
    },
    {
      "cell_type": "code",
      "metadata": {
        "id": "2xOGTTTJht1V",
        "colab_type": "code",
        "colab": {}
      },
      "source": [
        "#Creating the testing data set\n",
        "#Creating a new array containing scaled values of 20%\n",
        "test_data =scaled_data[training_data_len - numberOfdata : ,:]\n",
        "#Create the data sets x_test and y_test\n",
        "x_test = [] \n",
        "y_test = dataset[training_data_len:,:]\n",
        "for i in range(numberOfdata,len(test_data)):\n",
        "  x_test.append(test_data[i-numberOfdata:i,0])\n"
      ],
      "execution_count": 0,
      "outputs": []
    },
    {
      "cell_type": "code",
      "metadata": {
        "id": "I-Mor5LDhvXj",
        "colab_type": "code",
        "colab": {}
      },
      "source": [
        "#Convert the data to anumpy array\n",
        "x_test = np.array(x_test)\n"
      ],
      "execution_count": 0,
      "outputs": []
    },
    {
      "cell_type": "code",
      "metadata": {
        "id": "NqUst1-lhwok",
        "colab_type": "code",
        "colab": {}
      },
      "source": [
        "#Reshape the data\n",
        "x_test.shape\n",
        "x_test = np.reshape(x_test,(x_test.shape[0],x_test.shape[1],1))"
      ],
      "execution_count": 0,
      "outputs": []
    },
    {
      "cell_type": "code",
      "metadata": {
        "id": "gXrlaioLhyfM",
        "colab_type": "code",
        "colab": {}
      },
      "source": [
        "#Get the models predicted price values\n",
        "predictions = model.predict(x_test)\n",
        "predictions = scaler.inverse_transform(predictions)"
      ],
      "execution_count": 0,
      "outputs": []
    },
    {
      "cell_type": "code",
      "metadata": {
        "id": "N4DjPjY4h0ov",
        "colab_type": "code",
        "outputId": "dc60c55e-9845-4e28-b061-f72b4202b686",
        "colab": {
          "base_uri": "https://localhost:8080/",
          "height": 34
        }
      },
      "source": [
        "#Get the root mean squared error(RMSE)\n",
        "rmse = np.sqrt(np.mean(predictions - y_test)**2)\n",
        "rmse"
      ],
      "execution_count": 0,
      "outputs": [
        {
          "output_type": "execute_result",
          "data": {
            "text/plain": [
              "0.5301125953071995"
            ]
          },
          "metadata": {
            "tags": []
          },
          "execution_count": 70
        }
      ]
    },
    {
      "cell_type": "code",
      "metadata": {
        "id": "SPBfVcJeh1hv",
        "colab_type": "code",
        "outputId": "053e61ba-23f9-4c98-c5be-c11810501237",
        "colab": {
          "base_uri": "https://localhost:8080/",
          "height": 521
        }
      },
      "source": [
        "#Plot the data\n",
        "train = data[:training_data_len]\n",
        "valid = data[training_data_len:]\n",
        "valid['Predictions'] = predictions\n",
        "#Visualize the data\n",
        "plt.figure(figsize=(16,8))\n",
        "plt.title('Model')\n",
        "plt.xlabel('Date',fontsize=18)\n",
        "plt.ylabel('Close Price (Rs.)',fontsize=18)\n",
        "plt.plot(train['Closed'])\n",
        "plt.plot(valid[['Closed','Predictions']])\n",
        "plt.legend(['Train','Val','Predictions'],loc='lower right')\n",
        "plt.show()"
      ],
      "execution_count": 0,
      "outputs": [
        {
          "output_type": "display_data",
          "data": {
            "image/png": "[encoded data removed]",
            "text/plain": [
              "<Figure size 1152x576 with 1 Axes>"
            ]
          },
          "metadata": {
            "tags": [],
            "needs_background": "light"
          }
        }
      ]
    },
    {
      "cell_type": "code",
      "metadata": {
        "id": "AryYdDEPh3e1",
        "colab_type": "code",
        "outputId": "8197ee35-93b9-47c6-9899-a04fee086b69",
        "colab": {
          "base_uri": "https://localhost:8080/",
          "height": 419
        }
      },
      "source": [
        "valid"
      ],
      "execution_count": 0,
      "outputs": [
        {
          "output_type": "execute_result",
          "data": {
            "text/html": [
              "<div>\n",
              "<style scoped>\n",
              "    .dataframe tbody tr th:only-of-type {\n",
              "        vertical-align: middle;\n",
              "    }\n",
              "\n",
              "    .dataframe tbody tr th {\n",
              "        vertical-align: top;\n",
              "    }\n",
              "\n",
              "    .dataframe thead th {\n",
              "        text-align: right;\n",
              "    }\n",
              "</style>\n",
              "<table border=\"1\" class=\"dataframe\">\n",
              "  <thead>\n",
              "    <tr style=\"text-align: right;\">\n",
              "      <th></th>\n",
              "      <th>Closed</th>\n",
              "      <th>Predictions</th>\n",
              "    </tr>\n",
              "  </thead>\n",
              "  <tbody>\n",
              "    <tr>\n",
              "      <th>1522</th>\n",
              "      <td>15.3</td>\n",
              "      <td>16.388086</td>\n",
              "    </tr>\n",
              "    <tr>\n",
              "      <th>1523</th>\n",
              "      <td>15.5</td>\n",
              "      <td>16.233717</td>\n",
              "    </tr>\n",
              "    <tr>\n",
              "      <th>1524</th>\n",
              "      <td>15.3</td>\n",
              "      <td>16.124027</td>\n",
              "    </tr>\n",
              "    <tr>\n",
              "      <th>1525</th>\n",
              "      <td>15.3</td>\n",
              "      <td>16.029692</td>\n",
              "    </tr>\n",
              "    <tr>\n",
              "      <th>1526</th>\n",
              "      <td>15.3</td>\n",
              "      <td>15.956978</td>\n",
              "    </tr>\n",
              "    <tr>\n",
              "      <th>...</th>\n",
              "      <td>...</td>\n",
              "      <td>...</td>\n",
              "    </tr>\n",
              "    <tr>\n",
              "      <th>1897</th>\n",
              "      <td>15.1</td>\n",
              "      <td>18.492697</td>\n",
              "    </tr>\n",
              "    <tr>\n",
              "      <th>1898</th>\n",
              "      <td>15.4</td>\n",
              "      <td>17.936314</td>\n",
              "    </tr>\n",
              "    <tr>\n",
              "      <th>1899</th>\n",
              "      <td>15.0</td>\n",
              "      <td>17.352646</td>\n",
              "    </tr>\n",
              "    <tr>\n",
              "      <th>1900</th>\n",
              "      <td>15.0</td>\n",
              "      <td>16.780981</td>\n",
              "    </tr>\n",
              "    <tr>\n",
              "      <th>1901</th>\n",
              "      <td>13.3</td>\n",
              "      <td>16.291737</td>\n",
              "    </tr>\n",
              "  </tbody>\n",
              "</table>\n",
              "<p>380 rows × 2 columns</p>\n",
              "</div>"
            ],
            "text/plain": [
              "      Closed  Predictions\n",
              "1522    15.3    16.388086\n",
              "1523    15.5    16.233717\n",
              "1524    15.3    16.124027\n",
              "1525    15.3    16.029692\n",
              "1526    15.3    15.956978\n",
              "...      ...          ...\n",
              "1897    15.1    18.492697\n",
              "1898    15.4    17.936314\n",
              "1899    15.0    17.352646\n",
              "1900    15.0    16.780981\n",
              "1901    13.3    16.291737\n",
              "\n",
              "[380 rows x 2 columns]"
            ]
          },
          "metadata": {
            "tags": []
          },
          "execution_count": 72
        }
      ]
    }
  ]
}